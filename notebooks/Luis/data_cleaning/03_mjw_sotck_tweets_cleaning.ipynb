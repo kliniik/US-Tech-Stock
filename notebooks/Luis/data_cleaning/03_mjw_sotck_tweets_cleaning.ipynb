{
 "cells": [
  {
   "cell_type": "code",
   "execution_count": 1,
   "metadata": {},
   "outputs": [
    {
     "data": {
      "text/plain": [
       "['.git',\n",
       " '.gitattributes',\n",
       " '.gitignore',\n",
       " '.vscode',\n",
       " 'data',\n",
       " 'motivation.md',\n",
       " 'README.md',\n",
       " 'scripts']"
      ]
     },
     "execution_count": 1,
     "metadata": {},
     "output_type": "execute_result"
    }
   ],
   "source": [
    "import os\n",
    "\n",
    "os.chdir(\n",
    "    \"C:/Users/luism/Documents/Programacion_local/Clase/4o Año/Descubrimiento Datos Complejos/DCDC-Proyecto-Stocks\"\n",
    ")\n",
    "os.listdir()"
   ]
  },
  {
   "cell_type": "code",
   "execution_count": 2,
   "metadata": {},
   "outputs": [],
   "source": [
    "import pandas as pd"
   ]
  },
  {
   "cell_type": "code",
   "execution_count": 3,
   "metadata": {},
   "outputs": [],
   "source": [
    "data_file = \"data/raw/mjw_stock_market_tweets_train.csv\""
   ]
  },
  {
   "cell_type": "code",
   "execution_count": 4,
   "metadata": {},
   "outputs": [
    {
     "data": {
      "text/html": [
       "<div>\n",
       "<style scoped>\n",
       "    .dataframe tbody tr th:only-of-type {\n",
       "        vertical-align: middle;\n",
       "    }\n",
       "\n",
       "    .dataframe tbody tr th {\n",
       "        vertical-align: top;\n",
       "    }\n",
       "\n",
       "    .dataframe thead th {\n",
       "        text-align: right;\n",
       "    }\n",
       "</style>\n",
       "<table border=\"1\" class=\"dataframe\">\n",
       "  <thead>\n",
       "    <tr style=\"text-align: right;\">\n",
       "      <th></th>\n",
       "      <th>tweet_id</th>\n",
       "      <th>writer</th>\n",
       "      <th>post_date</th>\n",
       "      <th>body</th>\n",
       "      <th>comment_num</th>\n",
       "      <th>retweet_num</th>\n",
       "      <th>like_num</th>\n",
       "      <th>ticker_symbol</th>\n",
       "    </tr>\n",
       "  </thead>\n",
       "  <tbody>\n",
       "    <tr>\n",
       "      <th>0</th>\n",
       "      <td>550441672312512512</td>\n",
       "      <td>KeralaGuy77</td>\n",
       "      <td>2015-01-01</td>\n",
       "      <td>Insanity of today weirdo massive selling. $aap...</td>\n",
       "      <td>0</td>\n",
       "      <td>0</td>\n",
       "      <td>0</td>\n",
       "      <td>AAPL</td>\n",
       "    </tr>\n",
       "    <tr>\n",
       "      <th>1</th>\n",
       "      <td>550452877466935296</td>\n",
       "      <td>TheTrendIsUp</td>\n",
       "      <td>2015-01-01</td>\n",
       "      <td>My biggest winner in 2014: Inverse Volatility ...</td>\n",
       "      <td>1</td>\n",
       "      <td>0</td>\n",
       "      <td>0</td>\n",
       "      <td>AAPL</td>\n",
       "    </tr>\n",
       "  </tbody>\n",
       "</table>\n",
       "</div>"
      ],
      "text/plain": [
       "             tweet_id        writer   post_date  \\\n",
       "0  550441672312512512   KeralaGuy77  2015-01-01   \n",
       "1  550452877466935296  TheTrendIsUp  2015-01-01   \n",
       "\n",
       "                                                body  comment_num  \\\n",
       "0  Insanity of today weirdo massive selling. $aap...            0   \n",
       "1  My biggest winner in 2014: Inverse Volatility ...            1   \n",
       "\n",
       "   retweet_num  like_num ticker_symbol  \n",
       "0            0         0          AAPL  \n",
       "1            0         0          AAPL  "
      ]
     },
     "metadata": {},
     "output_type": "display_data"
    }
   ],
   "source": [
    "df = pd.read_csv(data_file,index_col=0)\n",
    "df.reset_index(inplace=True,drop=True)\n",
    "display(df.head(2))"
   ]
  },
  {
   "cell_type": "code",
   "execution_count": 5,
   "metadata": {},
   "outputs": [
    {
     "data": {
      "text/plain": [
       "tweet_id             0\n",
       "writer           27699\n",
       "post_date            0\n",
       "body                 0\n",
       "comment_num          0\n",
       "retweet_num          0\n",
       "like_num             0\n",
       "ticker_symbol        0\n",
       "dtype: int64"
      ]
     },
     "execution_count": 5,
     "metadata": {},
     "output_type": "execute_result"
    }
   ],
   "source": [
    "# Check NANs\n",
    "df.isna().sum()\n",
    "# Since we only see Nans in writer we can assume no problem since data we want is the body, the ticker and a sentiment label. Sentimente label will have to be predicted using NLP models. "
   ]
  },
  {
   "cell_type": "code",
   "execution_count": 6,
   "metadata": {},
   "outputs": [],
   "source": [
    "df[\"post_date\"] = pd.to_datetime(df[\"post_date\"])\n",
    "df.sort_values(by=[\"post_date\"], inplace=True)\n",
    "df.reset_index(drop=True, inplace=True)"
   ]
  },
  {
   "cell_type": "code",
   "execution_count": 7,
   "metadata": {},
   "outputs": [
    {
     "data": {
      "text/html": [
       "<div>\n",
       "<style scoped>\n",
       "    .dataframe tbody tr th:only-of-type {\n",
       "        vertical-align: middle;\n",
       "    }\n",
       "\n",
       "    .dataframe tbody tr th {\n",
       "        vertical-align: top;\n",
       "    }\n",
       "\n",
       "    .dataframe thead th {\n",
       "        text-align: right;\n",
       "    }\n",
       "</style>\n",
       "<table border=\"1\" class=\"dataframe\">\n",
       "  <thead>\n",
       "    <tr style=\"text-align: right;\">\n",
       "      <th></th>\n",
       "      <th>tweet_id</th>\n",
       "      <th>writer</th>\n",
       "      <th>post_date</th>\n",
       "      <th>body</th>\n",
       "      <th>comment_num</th>\n",
       "      <th>retweet_num</th>\n",
       "      <th>like_num</th>\n",
       "      <th>ticker_symbol</th>\n",
       "    </tr>\n",
       "  </thead>\n",
       "  <tbody>\n",
       "    <tr>\n",
       "      <th>0</th>\n",
       "      <td>550441672312512512</td>\n",
       "      <td>KeralaGuy77</td>\n",
       "      <td>2015-01-01</td>\n",
       "      <td>Insanity of today weirdo massive selling. $aap...</td>\n",
       "      <td>0</td>\n",
       "      <td>0</td>\n",
       "      <td>0</td>\n",
       "      <td>AAPL</td>\n",
       "    </tr>\n",
       "    <tr>\n",
       "      <th>1</th>\n",
       "      <td>550745292736593920</td>\n",
       "      <td>TeslaAgnostic</td>\n",
       "      <td>2015-01-01</td>\n",
       "      <td>@BarbarianCap @SamAntar  @DumbLuckCapital Also...</td>\n",
       "      <td>0</td>\n",
       "      <td>1</td>\n",
       "      <td>1</td>\n",
       "      <td>TSLA</td>\n",
       "    </tr>\n",
       "    <tr>\n",
       "      <th>2</th>\n",
       "      <td>550745279478398976</td>\n",
       "      <td>ideasforapple</td>\n",
       "      <td>2015-01-01</td>\n",
       "      <td>Add a keypad to the Mac (and #iPad) #iOS8 cont...</td>\n",
       "      <td>0</td>\n",
       "      <td>0</td>\n",
       "      <td>1</td>\n",
       "      <td>AAPL</td>\n",
       "    </tr>\n",
       "    <tr>\n",
       "      <th>3</th>\n",
       "      <td>550743956682981376</td>\n",
       "      <td>SamAntar</td>\n",
       "      <td>2015-01-01</td>\n",
       "      <td>@jotiavionica @TeslaAgnostic @BarbarianCap @el...</td>\n",
       "      <td>2</td>\n",
       "      <td>0</td>\n",
       "      <td>0</td>\n",
       "      <td>TSLA</td>\n",
       "    </tr>\n",
       "    <tr>\n",
       "      <th>4</th>\n",
       "      <td>550743209971036161</td>\n",
       "      <td>SentiQuant</td>\n",
       "      <td>2015-01-01</td>\n",
       "      <td>#TOPTICKERTWEETS $AAPL $BABA $EBAY $IMRS $AMZN...</td>\n",
       "      <td>0</td>\n",
       "      <td>0</td>\n",
       "      <td>1</td>\n",
       "      <td>AAPL</td>\n",
       "    </tr>\n",
       "    <tr>\n",
       "      <th>...</th>\n",
       "      <td>...</td>\n",
       "      <td>...</td>\n",
       "      <td>...</td>\n",
       "      <td>...</td>\n",
       "      <td>...</td>\n",
       "      <td>...</td>\n",
       "      <td>...</td>\n",
       "      <td>...</td>\n",
       "    </tr>\n",
       "    <tr>\n",
       "      <th>1700636</th>\n",
       "      <td>1212012677066874880</td>\n",
       "      <td>EspTrades</td>\n",
       "      <td>2019-12-31</td>\n",
       "      <td>@ScottWapnerCNBC said in 2019 you couldn't los...</td>\n",
       "      <td>1</td>\n",
       "      <td>0</td>\n",
       "      <td>0</td>\n",
       "      <td>TSLA</td>\n",
       "    </tr>\n",
       "    <tr>\n",
       "      <th>1700637</th>\n",
       "      <td>1212012347050598402</td>\n",
       "      <td>TraderDanny77</td>\n",
       "      <td>2019-12-31</td>\n",
       "      <td>SELLING THOSE ITM $420 STRIKE CALLS WAS LIT !!...</td>\n",
       "      <td>0</td>\n",
       "      <td>0</td>\n",
       "      <td>1</td>\n",
       "      <td>AMZN</td>\n",
       "    </tr>\n",
       "    <tr>\n",
       "      <th>1700638</th>\n",
       "      <td>1212011895194095616</td>\n",
       "      <td>TheBurdetteLawF</td>\n",
       "      <td>2019-12-31</td>\n",
       "      <td>#estate asset watch - some active stocks in pr...</td>\n",
       "      <td>0</td>\n",
       "      <td>0</td>\n",
       "      <td>0</td>\n",
       "      <td>AAPL</td>\n",
       "    </tr>\n",
       "    <tr>\n",
       "      <th>1700639</th>\n",
       "      <td>1212013764305989632</td>\n",
       "      <td>Tesla_S3XYCARS</td>\n",
       "      <td>2019-12-31</td>\n",
       "      <td>$TSLA GF3 Production is at 1500 Model 3's per ...</td>\n",
       "      <td>0</td>\n",
       "      <td>2</td>\n",
       "      <td>2</td>\n",
       "      <td>TSLA</td>\n",
       "    </tr>\n",
       "    <tr>\n",
       "      <th>1700640</th>\n",
       "      <td>1212160410692046849</td>\n",
       "      <td>MoriaCrypto</td>\n",
       "      <td>2019-12-31</td>\n",
       "      <td>I don't discriminate. I own both $aapl and $ms...</td>\n",
       "      <td>1</td>\n",
       "      <td>0</td>\n",
       "      <td>1</td>\n",
       "      <td>AAPL</td>\n",
       "    </tr>\n",
       "  </tbody>\n",
       "</table>\n",
       "<p>1700641 rows × 8 columns</p>\n",
       "</div>"
      ],
      "text/plain": [
       "                    tweet_id           writer  post_date  \\\n",
       "0         550441672312512512      KeralaGuy77 2015-01-01   \n",
       "1         550745292736593920    TeslaAgnostic 2015-01-01   \n",
       "2         550745279478398976    ideasforapple 2015-01-01   \n",
       "3         550743956682981376         SamAntar 2015-01-01   \n",
       "4         550743209971036161       SentiQuant 2015-01-01   \n",
       "...                      ...              ...        ...   \n",
       "1700636  1212012677066874880        EspTrades 2019-12-31   \n",
       "1700637  1212012347050598402    TraderDanny77 2019-12-31   \n",
       "1700638  1212011895194095616  TheBurdetteLawF 2019-12-31   \n",
       "1700639  1212013764305989632   Tesla_S3XYCARS 2019-12-31   \n",
       "1700640  1212160410692046849      MoriaCrypto 2019-12-31   \n",
       "\n",
       "                                                      body  comment_num  \\\n",
       "0        Insanity of today weirdo massive selling. $aap...            0   \n",
       "1        @BarbarianCap @SamAntar  @DumbLuckCapital Also...            0   \n",
       "2        Add a keypad to the Mac (and #iPad) #iOS8 cont...            0   \n",
       "3        @jotiavionica @TeslaAgnostic @BarbarianCap @el...            2   \n",
       "4        #TOPTICKERTWEETS $AAPL $BABA $EBAY $IMRS $AMZN...            0   \n",
       "...                                                    ...          ...   \n",
       "1700636  @ScottWapnerCNBC said in 2019 you couldn't los...            1   \n",
       "1700637  SELLING THOSE ITM $420 STRIKE CALLS WAS LIT !!...            0   \n",
       "1700638  #estate asset watch - some active stocks in pr...            0   \n",
       "1700639  $TSLA GF3 Production is at 1500 Model 3's per ...            0   \n",
       "1700640  I don't discriminate. I own both $aapl and $ms...            1   \n",
       "\n",
       "         retweet_num  like_num ticker_symbol  \n",
       "0                  0         0          AAPL  \n",
       "1                  1         1          TSLA  \n",
       "2                  0         1          AAPL  \n",
       "3                  0         0          TSLA  \n",
       "4                  0         1          AAPL  \n",
       "...              ...       ...           ...  \n",
       "1700636            0         0          TSLA  \n",
       "1700637            0         1          AMZN  \n",
       "1700638            0         0          AAPL  \n",
       "1700639            2         2          TSLA  \n",
       "1700640            0         1          AAPL  \n",
       "\n",
       "[1700641 rows x 8 columns]"
      ]
     },
     "execution_count": 7,
     "metadata": {},
     "output_type": "execute_result"
    }
   ],
   "source": [
    "# We see dates enter in the date range desired (2012-2020) so no need to filter this out\n",
    "df"
   ]
  },
  {
   "cell_type": "code",
   "execution_count": 11,
   "metadata": {},
   "outputs": [
    {
     "name": "stdout",
     "output_type": "stream",
     "text": [
      "Nº of duplicated rows: 0\n",
      "Nº of duplicated 'body' 0\n"
     ]
    }
   ],
   "source": [
    "print(\"Nº of duplicated rows:\", df.duplicated().sum())\n",
    "print(\"Nº of duplicated 'body'\", df.duplicated(subset=\"body\").sum())"
   ]
  },
  {
   "cell_type": "code",
   "execution_count": 15,
   "metadata": {},
   "outputs": [],
   "source": [
    "df = df.sort_values(by=[\"post_date\",\"body\"]).reset_index(drop=True)"
   ]
  },
  {
   "cell_type": "code",
   "execution_count": 16,
   "metadata": {},
   "outputs": [],
   "source": [
    "df.to_csv(\"data/processed/mjw_sotck_tweets_cleaned.csv\", index=False)"
   ]
  }
 ],
 "metadata": {
  "kernelspec": {
   "display_name": "DCDC",
   "language": "python",
   "name": "python3"
  },
  "language_info": {
   "codemirror_mode": {
    "name": "ipython",
    "version": 3
   },
   "file_extension": ".py",
   "mimetype": "text/x-python",
   "name": "python",
   "nbconvert_exporter": "python",
   "pygments_lexer": "ipython3",
   "version": "3.12.5"
  }
 },
 "nbformat": 4,
 "nbformat_minor": 2
}
