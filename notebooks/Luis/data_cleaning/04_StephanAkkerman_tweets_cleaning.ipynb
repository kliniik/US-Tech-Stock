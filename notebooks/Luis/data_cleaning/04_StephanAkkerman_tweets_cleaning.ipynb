{
 "cells": [
  {
   "cell_type": "code",
   "execution_count": 1,
   "metadata": {},
   "outputs": [
    {
     "data": {
      "text/plain": [
       "['.git',\n",
       " '.gitattributes',\n",
       " '.gitignore',\n",
       " '.vscode',\n",
       " 'data',\n",
       " 'motivation.md',\n",
       " 'README.md',\n",
       " 'scripts']"
      ]
     },
     "execution_count": 1,
     "metadata": {},
     "output_type": "execute_result"
    }
   ],
   "source": [
    "import os\n",
    "os.chdir(\"C:/Users/luism/Documents/Programacion_local/Clase/4o Año/Descubrimiento Datos Complejos/DCDC-Proyecto-Stocks\")\n",
    "os.listdir()"
   ]
  },
  {
   "cell_type": "code",
   "execution_count": 2,
   "metadata": {},
   "outputs": [],
   "source": [
    "import pandas as pd"
   ]
  },
  {
   "cell_type": "code",
   "execution_count": 3,
   "metadata": {},
   "outputs": [
    {
     "data": {
      "text/html": [
       "<div>\n",
       "<style scoped>\n",
       "    .dataframe tbody tr th:only-of-type {\n",
       "        vertical-align: middle;\n",
       "    }\n",
       "\n",
       "    .dataframe tbody tr th {\n",
       "        vertical-align: top;\n",
       "    }\n",
       "\n",
       "    .dataframe thead th {\n",
       "        text-align: right;\n",
       "    }\n",
       "</style>\n",
       "<table border=\"1\" class=\"dataframe\">\n",
       "  <thead>\n",
       "    <tr style=\"text-align: right;\">\n",
       "      <th></th>\n",
       "      <th>created_at</th>\n",
       "      <th>text</th>\n",
       "    </tr>\n",
       "    <tr>\n",
       "      <th>id</th>\n",
       "      <th></th>\n",
       "      <th></th>\n",
       "    </tr>\n",
       "  </thead>\n",
       "  <tbody>\n",
       "    <tr>\n",
       "      <th>1</th>\n",
       "      <td>2020-04-09 23:59:51+00:00</td>\n",
       "      <td>@KennyDegu very very little volume. With $10T ...</td>\n",
       "    </tr>\n",
       "    <tr>\n",
       "      <th>2</th>\n",
       "      <td>2020-04-09 23:58:55+00:00</td>\n",
       "      <td>#ES_F achieved Target 2780 closing above 50% #...</td>\n",
       "    </tr>\n",
       "    <tr>\n",
       "      <th>3</th>\n",
       "      <td>2020-04-09 23:58:52+00:00</td>\n",
       "      <td>RT @KimbleCharting: Silver/Gold indicator crea...</td>\n",
       "    </tr>\n",
       "    <tr>\n",
       "      <th>4</th>\n",
       "      <td>2020-04-09 23:58:27+00:00</td>\n",
       "      <td>@Issaquahfunds Hedged our $MSFT position into ...</td>\n",
       "    </tr>\n",
       "    <tr>\n",
       "      <th>5</th>\n",
       "      <td>2020-04-09 23:57:59+00:00</td>\n",
       "      <td>RT @zipillinois: 3 Surprisingly Controversial ...</td>\n",
       "    </tr>\n",
       "    <tr>\n",
       "      <th>...</th>\n",
       "      <td>...</td>\n",
       "      <td>...</td>\n",
       "    </tr>\n",
       "    <tr>\n",
       "      <th>938668</th>\n",
       "      <td>2020-07-16 00:00:25+00:00</td>\n",
       "      <td>RT @MadMraket: We tend to spend lot of time in...</td>\n",
       "    </tr>\n",
       "    <tr>\n",
       "      <th>938669</th>\n",
       "      <td>2020-07-16 00:00:23+00:00</td>\n",
       "      <td>You \\n\\n$SPX $SPY #ES_F</td>\n",
       "    </tr>\n",
       "    <tr>\n",
       "      <th>938670</th>\n",
       "      <td>2020-07-16 00:00:23+00:00</td>\n",
       "      <td>$KO Coca-Cola #Options #maxpain Chart, Open In...</td>\n",
       "    </tr>\n",
       "    <tr>\n",
       "      <th>938671</th>\n",
       "      <td>2020-07-16 00:00:06+00:00</td>\n",
       "      <td>Here's a dividends watchlist \\nfor the 01/04/0...</td>\n",
       "    </tr>\n",
       "    <tr>\n",
       "      <th>938672</th>\n",
       "      <td>2020-07-16 00:00:00+00:00</td>\n",
       "      <td>$AAL $TWTR $SPCE $AZN $ERI $RCL $JNJ $AA $SNBR...</td>\n",
       "    </tr>\n",
       "  </tbody>\n",
       "</table>\n",
       "<p>923673 rows × 2 columns</p>\n",
       "</div>"
      ],
      "text/plain": [
       "                       created_at  \\\n",
       "id                                  \n",
       "1       2020-04-09 23:59:51+00:00   \n",
       "2       2020-04-09 23:58:55+00:00   \n",
       "3       2020-04-09 23:58:52+00:00   \n",
       "4       2020-04-09 23:58:27+00:00   \n",
       "5       2020-04-09 23:57:59+00:00   \n",
       "...                           ...   \n",
       "938668  2020-07-16 00:00:25+00:00   \n",
       "938669  2020-07-16 00:00:23+00:00   \n",
       "938670  2020-07-16 00:00:23+00:00   \n",
       "938671  2020-07-16 00:00:06+00:00   \n",
       "938672  2020-07-16 00:00:00+00:00   \n",
       "\n",
       "                                                     text  \n",
       "id                                                         \n",
       "1       @KennyDegu very very little volume. With $10T ...  \n",
       "2       #ES_F achieved Target 2780 closing above 50% #...  \n",
       "3       RT @KimbleCharting: Silver/Gold indicator crea...  \n",
       "4       @Issaquahfunds Hedged our $MSFT position into ...  \n",
       "5       RT @zipillinois: 3 Surprisingly Controversial ...  \n",
       "...                                                   ...  \n",
       "938668  RT @MadMraket: We tend to spend lot of time in...  \n",
       "938669                            You \\n\\n$SPX $SPY #ES_F  \n",
       "938670  $KO Coca-Cola #Options #maxpain Chart, Open In...  \n",
       "938671  Here's a dividends watchlist \\nfor the 01/04/0...  \n",
       "938672  $AAL $TWTR $SPCE $AZN $ERI $RCL $JNJ $AA $SNBR...  \n",
       "\n",
       "[923673 rows x 2 columns]"
      ]
     },
     "metadata": {},
     "output_type": "display_data"
    }
   ],
   "source": [
    "file = \"data/raw/StephanAkkerman_stock-market-tweets-data_train.csv\" \n",
    "df = pd.read_csv(file,index_col=0)\n",
    "display(df)"
   ]
  },
  {
   "cell_type": "code",
   "execution_count": 4,
   "metadata": {},
   "outputs": [
    {
     "data": {
      "text/plain": [
       "created_at    0\n",
       "text          0\n",
       "dtype: int64"
      ]
     },
     "execution_count": 4,
     "metadata": {},
     "output_type": "execute_result"
    }
   ],
   "source": [
    "df.isna().sum()\n",
    "# Data presents no missing values\n",
    "\n",
    "# However here data is missing ticker information and label prediction for sentiment"
   ]
  },
  {
   "cell_type": "code",
   "execution_count": 5,
   "metadata": {},
   "outputs": [
    {
     "data": {
      "text/html": [
       "<div>\n",
       "<style scoped>\n",
       "    .dataframe tbody tr th:only-of-type {\n",
       "        vertical-align: middle;\n",
       "    }\n",
       "\n",
       "    .dataframe tbody tr th {\n",
       "        vertical-align: top;\n",
       "    }\n",
       "\n",
       "    .dataframe thead th {\n",
       "        text-align: right;\n",
       "    }\n",
       "</style>\n",
       "<table border=\"1\" class=\"dataframe\">\n",
       "  <thead>\n",
       "    <tr style=\"text-align: right;\">\n",
       "      <th></th>\n",
       "      <th>created_at</th>\n",
       "      <th>text</th>\n",
       "    </tr>\n",
       "  </thead>\n",
       "  <tbody>\n",
       "    <tr>\n",
       "      <th>0</th>\n",
       "      <td>2020-04-09 00:00:01+00:00</td>\n",
       "      <td>S&amp;amp;P 500 | $SPX | $SPX500 $USD\\n\\nS&amp;amp;P T...</td>\n",
       "    </tr>\n",
       "    <tr>\n",
       "      <th>1</th>\n",
       "      <td>2020-04-09 00:00:15+00:00</td>\n",
       "      <td>Why #realestate beats #stocks during a #recess...</td>\n",
       "    </tr>\n",
       "    <tr>\n",
       "      <th>2</th>\n",
       "      <td>2020-04-09 00:00:15+00:00</td>\n",
       "      <td>RT @DisneyTVANews: It's been confirmed that @D...</td>\n",
       "    </tr>\n",
       "    <tr>\n",
       "      <th>3</th>\n",
       "      <td>2020-04-09 00:00:26+00:00</td>\n",
       "      <td>Daily, Weekly, Monthly &amp;amp; Annual Pivots &amp;am...</td>\n",
       "    </tr>\n",
       "    <tr>\n",
       "      <th>4</th>\n",
       "      <td>2020-04-09 00:00:26+00:00</td>\n",
       "      <td>This private #stocks #swingtrading https://t.c...</td>\n",
       "    </tr>\n",
       "    <tr>\n",
       "      <th>...</th>\n",
       "      <td>...</td>\n",
       "      <td>...</td>\n",
       "    </tr>\n",
       "    <tr>\n",
       "      <th>923668</th>\n",
       "      <td>2020-07-16 23:58:57+00:00</td>\n",
       "      <td>Quality company proving during hard times #JNJ...</td>\n",
       "    </tr>\n",
       "    <tr>\n",
       "      <th>923669</th>\n",
       "      <td>2020-07-16 23:58:59+00:00</td>\n",
       "      <td>RT @ABiggzHD: Small Account: NA\\nBig Account: ...</td>\n",
       "    </tr>\n",
       "    <tr>\n",
       "      <th>923670</th>\n",
       "      <td>2020-07-16 23:59:03+00:00</td>\n",
       "      <td>If $AMZN dropped below $2,000 I would LOVE to ...</td>\n",
       "    </tr>\n",
       "    <tr>\n",
       "      <th>923671</th>\n",
       "      <td>2020-07-16 23:59:12+00:00</td>\n",
       "      <td>$MS $BAC https://t.co/o7Vm9UFCC9</td>\n",
       "    </tr>\n",
       "    <tr>\n",
       "      <th>923672</th>\n",
       "      <td>2020-07-16 23:59:13+00:00</td>\n",
       "      <td>Analyst Has Outperform Rating on Company with ...</td>\n",
       "    </tr>\n",
       "  </tbody>\n",
       "</table>\n",
       "<p>923673 rows × 2 columns</p>\n",
       "</div>"
      ],
      "text/plain": [
       "                      created_at  \\\n",
       "0      2020-04-09 00:00:01+00:00   \n",
       "1      2020-04-09 00:00:15+00:00   \n",
       "2      2020-04-09 00:00:15+00:00   \n",
       "3      2020-04-09 00:00:26+00:00   \n",
       "4      2020-04-09 00:00:26+00:00   \n",
       "...                          ...   \n",
       "923668 2020-07-16 23:58:57+00:00   \n",
       "923669 2020-07-16 23:58:59+00:00   \n",
       "923670 2020-07-16 23:59:03+00:00   \n",
       "923671 2020-07-16 23:59:12+00:00   \n",
       "923672 2020-07-16 23:59:13+00:00   \n",
       "\n",
       "                                                     text  \n",
       "0       S&amp;P 500 | $SPX | $SPX500 $USD\\n\\nS&amp;P T...  \n",
       "1       Why #realestate beats #stocks during a #recess...  \n",
       "2       RT @DisneyTVANews: It's been confirmed that @D...  \n",
       "3       Daily, Weekly, Monthly &amp; Annual Pivots &am...  \n",
       "4       This private #stocks #swingtrading https://t.c...  \n",
       "...                                                   ...  \n",
       "923668  Quality company proving during hard times #JNJ...  \n",
       "923669  RT @ABiggzHD: Small Account: NA\\nBig Account: ...  \n",
       "923670  If $AMZN dropped below $2,000 I would LOVE to ...  \n",
       "923671                   $MS $BAC https://t.co/o7Vm9UFCC9  \n",
       "923672  Analyst Has Outperform Rating on Company with ...  \n",
       "\n",
       "[923673 rows x 2 columns]"
      ]
     },
     "execution_count": 5,
     "metadata": {},
     "output_type": "execute_result"
    }
   ],
   "source": [
    "df[\"created_at\"] = pd.to_datetime(df[\"created_at\"])\n",
    "df = df.sort_values(by=\"created_at\")\n",
    "df = df.reset_index(drop=True)\n",
    "\n",
    "# Since dates are from 2020 and we look from 2012 to 2021 we leave all rows\n",
    "df"
   ]
  },
  {
   "cell_type": "markdown",
   "metadata": {},
   "source": [
    "# Duplicates"
   ]
  },
  {
   "cell_type": "code",
   "execution_count": 16,
   "metadata": {},
   "outputs": [
    {
     "name": "stdout",
     "output_type": "stream",
     "text": [
      "Nº of rows that are duplicate 3662\n",
      "Nº of text that are duplicate 294129\n",
      "Nº of text that are duplicate but in different days 290467\n",
      "Shape befor removing duplicates (923673, 2)\n",
      "Shape befor after duplicates (921560, 2)\n",
      "Removed: 2113\n"
     ]
    }
   ],
   "source": [
    "print(\"Nº of rows that are duplicate\",df.loc[df.duplicated(keep=False)].shape[0])\n",
    "print(\"Nº of text that are duplicate\",df.loc[df[\"text\"].duplicated(keep=False)].shape[0])\n",
    "# The second number is way bigger than the first. This is: a lot of text appear twice but the common thing is they have different dates when duplicated\n",
    "print(\"Nº of text that are duplicate but in different days\",df.loc[df[\"text\"].duplicated(keep=False) & ~df.duplicated(subset=[\"text\",\"created_at\"],keep=False)].shape[0])\n",
    "\n",
    "# We will remove the duplicated rows (as a whole) I believe when it is a duplicate but in different days it may have a different impact\n",
    "print(\"Shape befor removing duplicates\",df.shape)\n",
    "df_removed_dup = df.loc[~df.duplicated(keep=\"first\")]\n",
    "print(\"Shape befor after duplicates\",df_removed_dup.shape)\n",
    "print(\"Removed:\",df.shape[0]-df_removed_dup.shape[0])"
   ]
  },
  {
   "cell_type": "code",
   "execution_count": 17,
   "metadata": {},
   "outputs": [],
   "source": [
    "df_removed_dup.to_csv(\"data/processed/stepahnakkerman_tweets_cleaned.csv\", index=False)"
   ]
  }
 ],
 "metadata": {
  "kernelspec": {
   "display_name": "DCDC",
   "language": "python",
   "name": "python3"
  },
  "language_info": {
   "codemirror_mode": {
    "name": "ipython",
    "version": 3
   },
   "file_extension": ".py",
   "mimetype": "text/x-python",
   "name": "python",
   "nbconvert_exporter": "python",
   "pygments_lexer": "ipython3",
   "version": "3.12.5"
  }
 },
 "nbformat": 4,
 "nbformat_minor": 2
}
