{
 "cells": [
  {
   "cell_type": "code",
   "execution_count": 1,
   "metadata": {},
   "outputs": [],
   "source": [
    "import pandas as pd"
   ]
  },
  {
   "cell_type": "code",
   "execution_count": 3,
   "metadata": {},
   "outputs": [
    {
     "data": {
      "text/html": [
       "<div>\n",
       "<style scoped>\n",
       "    .dataframe tbody tr th:only-of-type {\n",
       "        vertical-align: middle;\n",
       "    }\n",
       "\n",
       "    .dataframe tbody tr th {\n",
       "        vertical-align: top;\n",
       "    }\n",
       "\n",
       "    .dataframe thead th {\n",
       "        text-align: right;\n",
       "    }\n",
       "</style>\n",
       "<table border=\"1\" class=\"dataframe\">\n",
       "  <thead>\n",
       "    <tr style=\"text-align: right;\">\n",
       "      <th></th>\n",
       "      <th>AAL_Adj Close</th>\n",
       "      <th>AAL_Close</th>\n",
       "      <th>AAL_High</th>\n",
       "      <th>AAL_Low</th>\n",
       "      <th>AAL_Open</th>\n",
       "      <th>AAL_Volume</th>\n",
       "      <th>AAME_Adj Close</th>\n",
       "      <th>AAME_Close</th>\n",
       "      <th>AAME_High</th>\n",
       "      <th>AAME_Low</th>\n",
       "      <th>...</th>\n",
       "      <th>ZIV_High</th>\n",
       "      <th>ZIV_Low</th>\n",
       "      <th>ZIV_Open</th>\n",
       "      <th>ZIV_Volume</th>\n",
       "      <th>ZUMZ_Adj Close</th>\n",
       "      <th>ZUMZ_Close</th>\n",
       "      <th>ZUMZ_High</th>\n",
       "      <th>ZUMZ_Low</th>\n",
       "      <th>ZUMZ_Open</th>\n",
       "      <th>ZUMZ_Volume</th>\n",
       "    </tr>\n",
       "    <tr>\n",
       "      <th>Date</th>\n",
       "      <th></th>\n",
       "      <th></th>\n",
       "      <th></th>\n",
       "      <th></th>\n",
       "      <th></th>\n",
       "      <th></th>\n",
       "      <th></th>\n",
       "      <th></th>\n",
       "      <th></th>\n",
       "      <th></th>\n",
       "      <th></th>\n",
       "      <th></th>\n",
       "      <th></th>\n",
       "      <th></th>\n",
       "      <th></th>\n",
       "      <th></th>\n",
       "      <th></th>\n",
       "      <th></th>\n",
       "      <th></th>\n",
       "      <th></th>\n",
       "      <th></th>\n",
       "    </tr>\n",
       "  </thead>\n",
       "  <tbody>\n",
       "    <tr>\n",
       "      <th>2012-01-03 00:00:00+00:00</th>\n",
       "      <td>4.83</td>\n",
       "      <td>5.12</td>\n",
       "      <td>5.22</td>\n",
       "      <td>5.07</td>\n",
       "      <td>5.20</td>\n",
       "      <td>6105900</td>\n",
       "      <td>1.83</td>\n",
       "      <td>1.97</td>\n",
       "      <td>1.99</td>\n",
       "      <td>1.96</td>\n",
       "      <td>...</td>\n",
       "      <td>12.71</td>\n",
       "      <td>12.65</td>\n",
       "      <td>12.67</td>\n",
       "      <td>4155</td>\n",
       "      <td>26.46</td>\n",
       "      <td>26.46</td>\n",
       "      <td>27.99</td>\n",
       "      <td>25.76</td>\n",
       "      <td>27.63</td>\n",
       "      <td>1154200</td>\n",
       "    </tr>\n",
       "    <tr>\n",
       "      <th>2012-01-04 00:00:00+00:00</th>\n",
       "      <td>4.74</td>\n",
       "      <td>5.03</td>\n",
       "      <td>5.18</td>\n",
       "      <td>4.97</td>\n",
       "      <td>5.09</td>\n",
       "      <td>5268700</td>\n",
       "      <td>1.82</td>\n",
       "      <td>1.96</td>\n",
       "      <td>1.96</td>\n",
       "      <td>1.96</td>\n",
       "      <td>...</td>\n",
       "      <td>12.93</td>\n",
       "      <td>12.78</td>\n",
       "      <td>12.78</td>\n",
       "      <td>5990</td>\n",
       "      <td>26.33</td>\n",
       "      <td>26.33</td>\n",
       "      <td>26.74</td>\n",
       "      <td>25.57</td>\n",
       "      <td>26.22</td>\n",
       "      <td>832200</td>\n",
       "    </tr>\n",
       "  </tbody>\n",
       "</table>\n",
       "<p>2 rows × 6894 columns</p>\n",
       "</div>"
      ],
      "text/plain": [
       "                           AAL_Adj Close  AAL_Close  AAL_High  AAL_Low  \\\n",
       "Date                                                                     \n",
       "2012-01-03 00:00:00+00:00           4.83       5.12      5.22     5.07   \n",
       "2012-01-04 00:00:00+00:00           4.74       5.03      5.18     4.97   \n",
       "\n",
       "                           AAL_Open  AAL_Volume  AAME_Adj Close  AAME_Close  \\\n",
       "Date                                                                          \n",
       "2012-01-03 00:00:00+00:00      5.20     6105900            1.83        1.97   \n",
       "2012-01-04 00:00:00+00:00      5.09     5268700            1.82        1.96   \n",
       "\n",
       "                           AAME_High  AAME_Low  ...  ZIV_High  ZIV_Low  \\\n",
       "Date                                            ...                      \n",
       "2012-01-03 00:00:00+00:00       1.99      1.96  ...     12.71    12.65   \n",
       "2012-01-04 00:00:00+00:00       1.96      1.96  ...     12.93    12.78   \n",
       "\n",
       "                           ZIV_Open  ZIV_Volume  ZUMZ_Adj Close  ZUMZ_Close  \\\n",
       "Date                                                                          \n",
       "2012-01-03 00:00:00+00:00     12.67        4155           26.46       26.46   \n",
       "2012-01-04 00:00:00+00:00     12.78        5990           26.33       26.33   \n",
       "\n",
       "                           ZUMZ_High  ZUMZ_Low  ZUMZ_Open  ZUMZ_Volume  \n",
       "Date                                                                    \n",
       "2012-01-03 00:00:00+00:00      27.99     25.76      27.63      1154200  \n",
       "2012-01-04 00:00:00+00:00      26.74     25.57      26.22       832200  \n",
       "\n",
       "[2 rows x 6894 columns]"
      ]
     },
     "metadata": {},
     "output_type": "display_data"
    },
    {
     "name": "stdout",
     "output_type": "stream",
     "text": [
      "['AAL', 'AAME', 'AAON', 'AAPL', 'AAXJ', 'ABCB', 'ABIO', 'ACAD', 'ACFN', 'ACGL', 'ACHC', 'ACIW', 'ACLS', 'ACNB', 'ACTG', 'ACUR', 'ACWI', 'ACWX', 'ADBE', 'ADI', 'ADP', 'ADRE', 'ADSK', 'ADTN', 'ADUS', 'AEHR', 'AEIS', 'AGEN', 'AGNC', 'AGYS', 'AIRT', 'AKAM', 'ALCO', 'ALGN', 'ALGT', 'ALIM', 'ALKS', 'ALLT', 'ALNY', 'ALOT', 'AMAT', 'AMCF', 'AMCX', 'AMD', 'AMED', 'AMGN', 'AMKR', 'AMRN', 'AMSC', 'AMSF', 'AMSWA', 'AMTX', 'AMWD', 'AMZN', 'ANDE', 'ANGI', 'ANGO', 'ANIK', 'ANIP', 'ANSS', 'ANTH', 'AOSL', 'APDN', 'APEI', 'APOG', 'APTO', 'APWC', 'ARAY', 'ARCB', 'ARCC', 'ARKR', 'ARLP', 'AROW', 'ARTNA', 'ARTW', 'ARWR', 'ASMB', 'ASML', 'ASPS', 'ASRV', 'ASTC', 'ASTE', 'ASUR', 'ASYS', 'ATEC', 'ATLC', 'ATLO', 'ATNI', 'ATRC', 'ATRI', 'ATRO', 'ATSG', 'AUBN', 'AUDC', 'AVAV', 'AVGO', 'AVNW', 'AWRE', 'AXDX', 'AXGN', 'AXTI', 'AZPN', 'BANFP', 'BANF', 'BANR', 'BBGI', 'BBSI', 'BCBP', 'BCLI', 'BCPC', 'BCRX', 'BDSI', 'BEBE', 'BECN', 'BELFA', 'BELFB', 'BFIN', 'BGFV', 'BGMD', 'BIB', 'BICK', 'BIDU', 'BIIB', 'BIOL', 'BIS', 'BJRI', 'BKSC', 'BLDP', 'BLDR', 'BLFS', 'BLIN', 'BLKB', 'BLRX', 'BMRC', 'BMRN', 'BOKF', 'BOOM', 'BOSC', 'BOTJ', 'BPOPM', 'BPOP', 'BPTH', 'BRID', 'BRKL', 'BRKR', 'BSET', 'BSPM', 'BSRR', 'BUSE', 'BWEN', 'BWFG', 'BYFC', 'CAAS', 'CACC', 'CACH', 'CAC', 'CAKE', 'CALM', 'CAMT', 'CARV', 'CARZ', 'CAR', 'CASH', 'CASI', 'CASS', 'CASY', 'CATY', 'CBAN', 'CBFV', 'CBOE', 'CBRL', 'CBSH', 'CCBG', 'CCIH', 'CCNE', 'CCOI', 'CCRN', 'CCUR', 'CDNS', 'CDTI', 'CDXS', 'CDZI', 'CECO', 'CENTA', 'CENT', 'CENX', 'CERS', 'CEVA', 'CFBK', 'CFFI', 'CFFN', 'CFNB', 'CGEN', 'CGNX', 'CGO', 'CHCI', 'CHCO', 'CHDN', 'CHEF', 'CHI', 'CHKP', 'CHMG', 'CHNR', 'CHRW', 'CHSCP', 'CHTR', 'CHW', 'CHY', 'CINF', 'CIZN', 'CJJD', 'CLDX', 'CLFD', 'CLMT', 'CLNE', 'CLRB', 'CLRO', 'CLWT', 'CMCO', 'CMCSA', 'CMCT', 'CME', 'CMPR', 'CMTL', 'CNET', 'CNMD', 'CNOB', 'CNSL', 'CNTY', 'COHR', 'COHU', 'COKE', 'COLB', 'COLM', 'CONN', 'CORT', 'COST', 'CPHC', 'CPIX', 'CPLP', 'CPRT', 'CPRX', 'CPSS', 'CRAI', 'CREG', 'CRESY', 'CRIS', 'CRMT', 'CRNT', 'CROX', 'CRUS', 'CRVL', 'CRWS', 'CSCO', 'CSGP', 'CSGS', 'CSIQ', 'CSPI', 'CSQ', 'CSWC', 'CTAS', 'CTBI', 'CTHR', 'CTRN', 'CTSH', 'CTSO', 'CUBA', 'CUTR', 'CVBF', 'CVCO', 'CVGI', 'CVGW', 'CVLT', 'CVV', 'CWBC', 'CWCO', 'CWST', 'CYAN', 'CYCCP', 'CYCC', 'CYTK', 'CZNC', 'CZWI', 'DAIO', 'DAKT', 'DCOM', 'DENN', 'DFVL', 'DFVS', 'DGICA', 'DGICB', 'DGII', 'DGLD', 'DGLY', 'DHIL', 'DIOD', 'DJCO', 'DLHC', 'DLTR', 'DMLP', 'DMRC', 'DORM', 'DOX', 'DRRX', 'DSGX', 'DSLV', 'DSWL', 'DVAX', 'DWSN', 'DXCM', 'DXLG', 'DXPE', 'DXYN', 'DYNT', 'DYSL', 'EA', 'EBAY', 'EBMT', 'EBTC', 'ECPG', 'EDAP', 'EDUC', 'EEFT', 'EFOI', 'EFSC', 'EGAN', 'EGBN', 'EGHT', 'EHTH', 'ELSE', 'ELTK', 'EMIF', 'EMITF', 'EMKR', 'EML', 'EMMS', 'ENG', 'ENSG', 'ENTG', 'ENZN', 'EQIX', 'ERIC', 'ERIE', 'ERII', 'ESCA', 'ESEA', 'ESGR', 'ESLT', 'ESMC', 'ESSA', 'EUFN', 'EVOL', 'EWBC', 'EXAS', 'EXEL', 'EXLS', 'EXPD', 'EXPE', 'EXPO', 'EXTR', 'EZPW', 'FALC', 'FARM', 'FARO', 'FAST', 'FBIZ', 'FBMS', 'FBNC', 'FCAP', 'FCBC', 'FCCO', 'FCEL', 'FCFS', 'FCNCA', 'FDUS', 'FEIM', 'FELE', 'FFBC']\n"
     ]
    }
   ],
   "source": [
    "tickers_df = pd.read_csv(\"NASDAQ_stock_data_processed.csv\", index_col=0)\n",
    "\n",
    "ticker_list = []\n",
    "display(tickers_df.head(2))\n",
    "for i in range(0,len(tickers_df),6):\n",
    "    ticker_list.append(tickers_df.columns[i].split(\"_\")[0])\n",
    "\n",
    "print(ticker_list)"
   ]
  },
  {
   "cell_type": "code",
   "execution_count": 7,
   "metadata": {},
   "outputs": [
    {
     "name": "stdout",
     "output_type": "stream",
     "text": [
      "Archivo data_cleared/tweets_remaining_cleared_part1.csv cargado en df_remaining_1, shape: (400000, 4)\n",
      "Archivo data_cleared/tweets_remaining_cleared_part2.csv cargado en df_remaining_2, shape: (400000, 4)\n",
      "Archivo data_cleared/tweets_remaining_cleared_part3.csv cargado en df_remaining_3, shape: (400000, 4)\n",
      "Archivo data_cleared/tweets_remaining_cleared_part4.csv cargado en df_remaining_4, shape: (400000, 4)\n",
      "Archivo data_cleared/tweets_remaining_cleared_part5.csv cargado en df_remaining_5, shape: (400000, 4)\n",
      "Archivo data_cleared/tweets_remaining_cleared_part6.csv cargado en df_remaining_6, shape: (400000, 4)\n",
      "Archivo data_cleared/tweets_remaining_cleared_part7.csv cargado en df_remaining_7, shape: (126326, 4)\n"
     ]
    }
   ],
   "source": [
    "for i in range(1, 8):\n",
    "    file_name = f'data_cleared/tweets_remaining_cleared_part{i}.csv'\n",
    "    globals()[f'df_remaining_{i}'] = pd.read_csv(file_name, sep=';')\n",
    "    print(f'Archivo {file_name} cargado en df_remaining_{i}, shape: {globals()[f\"df_remaining_{i}\"].shape}')"
   ]
  },
  {
   "cell_type": "code",
   "execution_count": 8,
   "metadata": {},
   "outputs": [
    {
     "name": "stdout",
     "output_type": "stream",
     "text": [
      "df_remaining_1 shape: (49694, 4)\n",
      "df_remaining_2 shape: (47517, 4)\n",
      "df_remaining_3 shape: (48997, 4)\n",
      "df_remaining_4 shape: (52297, 4)\n",
      "df_remaining_5 shape: (48882, 4)\n",
      "df_remaining_6 shape: (52597, 4)\n",
      "df_remaining_7 shape: (14845, 4)\n"
     ]
    }
   ],
   "source": [
    "#filter each data frame so that it only conitans the tickers in the ticker_list\n",
    "for i in range(1, 8):\n",
    "    globals()[f'df_remaining_{i}'] = globals()[f'df_remaining_{i}'][globals()[f'df_remaining_{i}']['ticker'].isin(ticker_list)]\n",
    "    print(f'df_remaining_{i} shape: {globals()[f\"df_remaining_{i}\"].shape}')"
   ]
  },
  {
   "cell_type": "code",
   "execution_count": 11,
   "metadata": {},
   "outputs": [
    {
     "data": {
      "text/plain": [
       "(14276, 4)"
      ]
     },
     "execution_count": 11,
     "metadata": {},
     "output_type": "execute_result"
    }
   ],
   "source": [
    "df_labelled = pd.read_csv('data_cleared/tweets_labelled_cleared.csv', sep=';')\n",
    "df_labelled.shape"
   ]
  },
  {
   "cell_type": "code",
   "execution_count": 12,
   "metadata": {},
   "outputs": [
    {
     "data": {
      "text/plain": [
       "(1686, 4)"
      ]
     },
     "execution_count": 12,
     "metadata": {},
     "output_type": "execute_result"
    }
   ],
   "source": [
    "df_labelled = df_labelled[df_labelled['ticker'].isin(ticker_list)]\n",
    "df_labelled.shape"
   ]
  },
  {
   "cell_type": "code",
   "execution_count": 13,
   "metadata": {},
   "outputs": [],
   "source": [
    "import os\n",
    "if not os.path.exists('tweets_labelled_cleared.csv'):\n",
    "    df_labelled.to_csv('tweets_labelled_cleared.csv', sep=';', index=False)"
   ]
  },
  {
   "cell_type": "code",
   "execution_count": 14,
   "metadata": {},
   "outputs": [],
   "source": [
    "#save all reamining tweets as one fike\n",
    "df_remaining = pd.concat([df_remaining_1, df_remaining_2, df_remaining_3, df_remaining_4, df_remaining_5, df_remaining_6, df_remaining_7])"
   ]
  },
  {
   "cell_type": "code",
   "execution_count": 15,
   "metadata": {},
   "outputs": [
    {
     "data": {
      "text/plain": [
       "(314829, 4)"
      ]
     },
     "execution_count": 15,
     "metadata": {},
     "output_type": "execute_result"
    }
   ],
   "source": [
    "df_remaining.shape"
   ]
  },
  {
   "cell_type": "code",
   "execution_count": 16,
   "metadata": {},
   "outputs": [],
   "source": [
    "if not os.path.exists('tweets_remaining_cleared.csv'):\n",
    "    df_remaining.to_csv('tweets_remaining_cleared.csv', sep=';', index=False)"
   ]
  },
  {
   "cell_type": "code",
   "execution_count": null,
   "metadata": {},
   "outputs": [],
   "source": []
  }
 ],
 "metadata": {
  "kernelspec": {
   "display_name": "Python 3",
   "language": "python",
   "name": "python3"
  },
  "language_info": {
   "codemirror_mode": {
    "name": "ipython",
    "version": 3
   },
   "file_extension": ".py",
   "mimetype": "text/x-python",
   "name": "python",
   "nbconvert_exporter": "python",
   "pygments_lexer": "ipython3",
   "version": "3.11.8"
  }
 },
 "nbformat": 4,
 "nbformat_minor": 2
}
