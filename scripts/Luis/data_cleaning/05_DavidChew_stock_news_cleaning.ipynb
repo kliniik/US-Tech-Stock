{
 "cells": [
  {
   "cell_type": "code",
   "execution_count": 6,
   "metadata": {},
   "outputs": [
    {
     "data": {
      "text/plain": [
       "['.git',\n",
       " '.gitattributes',\n",
       " '.gitignore',\n",
       " '.vscode',\n",
       " 'data',\n",
       " 'notebooks',\n",
       " 'README.md',\n",
       " 'scripts']"
      ]
     },
     "execution_count": 6,
     "metadata": {},
     "output_type": "execute_result"
    }
   ],
   "source": [
    "import os\n",
    "os.chdir(\"C:/Users/luism/Documents/Programacion_local/Clase/4o Año/Descubrimiento Datos Complejos/DCDC-Proyecto-Stocks\")\n",
    "os.listdir()"
   ]
  },
  {
   "cell_type": "code",
   "execution_count": 7,
   "metadata": {},
   "outputs": [],
   "source": [
    "import pandas as pd"
   ]
  },
  {
   "cell_type": "code",
   "execution_count": 8,
   "metadata": {},
   "outputs": [
    {
     "data": {
      "text/html": [
       "<div>\n",
       "<style scoped>\n",
       "    .dataframe tbody tr th:only-of-type {\n",
       "        vertical-align: middle;\n",
       "    }\n",
       "\n",
       "    .dataframe tbody tr th {\n",
       "        vertical-align: top;\n",
       "    }\n",
       "\n",
       "    .dataframe thead th {\n",
       "        text-align: right;\n",
       "    }\n",
       "</style>\n",
       "<table border=\"1\" class=\"dataframe\">\n",
       "  <thead>\n",
       "    <tr style=\"text-align: right;\">\n",
       "      <th></th>\n",
       "      <th>headline</th>\n",
       "      <th>date</th>\n",
       "    </tr>\n",
       "  </thead>\n",
       "  <tbody>\n",
       "    <tr>\n",
       "      <th>0</th>\n",
       "      <td>brian kelly said that intel corporation (nasda...</td>\n",
       "      <td>2015-01-01</td>\n",
       "    </tr>\n",
       "    <tr>\n",
       "      <th>1</th>\n",
       "      <td>meanwhile, apple inc 's (nasdaq: aapl ) itunes...</td>\n",
       "      <td>2015-01-02</td>\n",
       "    </tr>\n",
       "    <tr>\n",
       "      <th>2</th>\n",
       "      <td>quartz recently polled 811 smartphone users li...</td>\n",
       "      <td>2015-01-02</td>\n",
       "    </tr>\n",
       "    <tr>\n",
       "      <th>3</th>\n",
       "      <td>jim kelleher of argus research wrote in a note...</td>\n",
       "      <td>2015-01-02</td>\n",
       "    </tr>\n",
       "    <tr>\n",
       "      <th>4</th>\n",
       "      <td>over the years, apple inc. (nasdaq: aapl ) has...</td>\n",
       "      <td>2015-01-03</td>\n",
       "    </tr>\n",
       "    <tr>\n",
       "      <th>...</th>\n",
       "      <td>...</td>\n",
       "      <td>...</td>\n",
       "    </tr>\n",
       "    <tr>\n",
       "      <th>276553</th>\n",
       "      <td>the u.s. stock market resumed its decline on t...</td>\n",
       "      <td>2024-01-17</td>\n",
       "    </tr>\n",
       "    <tr>\n",
       "      <th>276554</th>\n",
       "      <td>wall street took a breather on tuesday, with t...</td>\n",
       "      <td>2024-01-23</td>\n",
       "    </tr>\n",
       "    <tr>\n",
       "      <th>276555</th>\n",
       "      <td>major u.s. indices were mixed on tuesday with ...</td>\n",
       "      <td>2024-01-24</td>\n",
       "    </tr>\n",
       "    <tr>\n",
       "      <th>276556</th>\n",
       "      <td>this week, the three major u.s. stock market i...</td>\n",
       "      <td>2024-01-26</td>\n",
       "    </tr>\n",
       "    <tr>\n",
       "      <th>276557</th>\n",
       "      <td>in the past half-year, china has approved over...</td>\n",
       "      <td>2024-01-29</td>\n",
       "    </tr>\n",
       "  </tbody>\n",
       "</table>\n",
       "<p>276558 rows × 2 columns</p>\n",
       "</div>"
      ],
      "text/plain": [
       "                                                 headline        date\n",
       "0       brian kelly said that intel corporation (nasda...  2015-01-01\n",
       "1       meanwhile, apple inc 's (nasdaq: aapl ) itunes...  2015-01-02\n",
       "2       quartz recently polled 811 smartphone users li...  2015-01-02\n",
       "3       jim kelleher of argus research wrote in a note...  2015-01-02\n",
       "4       over the years, apple inc. (nasdaq: aapl ) has...  2015-01-03\n",
       "...                                                   ...         ...\n",
       "276553  the u.s. stock market resumed its decline on t...  2024-01-17\n",
       "276554  wall street took a breather on tuesday, with t...  2024-01-23\n",
       "276555  major u.s. indices were mixed on tuesday with ...  2024-01-24\n",
       "276556  this week, the three major u.s. stock market i...  2024-01-26\n",
       "276557  in the past half-year, china has approved over...  2024-01-29\n",
       "\n",
       "[276558 rows x 2 columns]"
      ]
     },
     "metadata": {},
     "output_type": "display_data"
    }
   ],
   "source": [
    "file = \"data/raw/David-Chew-HL_Tech-Stocks-News_train.csv\"\n",
    "df = pd.read_csv(file)\n",
    "display(df)"
   ]
  },
  {
   "cell_type": "code",
   "execution_count": 9,
   "metadata": {},
   "outputs": [
    {
     "data": {
      "text/plain": [
       "headline    0\n",
       "date        0\n",
       "dtype: int64"
      ]
     },
     "execution_count": 9,
     "metadata": {},
     "output_type": "execute_result"
    }
   ],
   "source": [
    "df.isna().sum()"
   ]
  },
  {
   "cell_type": "code",
   "execution_count": 14,
   "metadata": {},
   "outputs": [
    {
     "data": {
      "text/html": [
       "<div>\n",
       "<style scoped>\n",
       "    .dataframe tbody tr th:only-of-type {\n",
       "        vertical-align: middle;\n",
       "    }\n",
       "\n",
       "    .dataframe tbody tr th {\n",
       "        vertical-align: top;\n",
       "    }\n",
       "\n",
       "    .dataframe thead th {\n",
       "        text-align: right;\n",
       "    }\n",
       "</style>\n",
       "<table border=\"1\" class=\"dataframe\">\n",
       "  <thead>\n",
       "    <tr style=\"text-align: right;\">\n",
       "      <th></th>\n",
       "      <th>headline</th>\n",
       "      <th>date</th>\n",
       "    </tr>\n",
       "  </thead>\n",
       "  <tbody>\n",
       "    <tr>\n",
       "      <th>0</th>\n",
       "      <td>the popularity of options trading has exploded...</td>\n",
       "      <td>2014-11-07</td>\n",
       "    </tr>\n",
       "    <tr>\n",
       "      <th>1</th>\n",
       "      <td>the popularity of options trading has exploded...</td>\n",
       "      <td>2014-11-07</td>\n",
       "    </tr>\n",
       "    <tr>\n",
       "      <th>2</th>\n",
       "      <td>brian kelly said that intel corporation (nasda...</td>\n",
       "      <td>2015-01-01</td>\n",
       "    </tr>\n",
       "    <tr>\n",
       "      <th>3</th>\n",
       "      <td>brian kelly said that intel corporation (nasda...</td>\n",
       "      <td>2015-01-01</td>\n",
       "    </tr>\n",
       "    <tr>\n",
       "      <th>4</th>\n",
       "      <td>2104 marked the first year that consumers swap...</td>\n",
       "      <td>2015-01-02</td>\n",
       "    </tr>\n",
       "    <tr>\n",
       "      <th>...</th>\n",
       "      <td>...</td>\n",
       "      <td>...</td>\n",
       "    </tr>\n",
       "    <tr>\n",
       "      <th>276553</th>\n",
       "      <td>an analysis by jpmorgan chase &amp; co.’s quantita...</td>\n",
       "      <td>2024-01-30</td>\n",
       "    </tr>\n",
       "    <tr>\n",
       "      <th>276554</th>\n",
       "      <td>microsoft corporation (nasdaq: msft ) is expec...</td>\n",
       "      <td>2024-01-30</td>\n",
       "    </tr>\n",
       "    <tr>\n",
       "      <th>276555</th>\n",
       "      <td>the u.s. economy could be on the verge of a si...</td>\n",
       "      <td>2024-01-30</td>\n",
       "    </tr>\n",
       "    <tr>\n",
       "      <th>276556</th>\n",
       "      <td>the u.s. economy could be on the verge of a si...</td>\n",
       "      <td>2024-01-30</td>\n",
       "    </tr>\n",
       "    <tr>\n",
       "      <th>276557</th>\n",
       "      <td>after ford motor (nyse: f ) decided to cut the...</td>\n",
       "      <td>2024-01-30</td>\n",
       "    </tr>\n",
       "  </tbody>\n",
       "</table>\n",
       "<p>276558 rows × 2 columns</p>\n",
       "</div>"
      ],
      "text/plain": [
       "                                                 headline       date\n",
       "0       the popularity of options trading has exploded... 2014-11-07\n",
       "1       the popularity of options trading has exploded... 2014-11-07\n",
       "2       brian kelly said that intel corporation (nasda... 2015-01-01\n",
       "3       brian kelly said that intel corporation (nasda... 2015-01-01\n",
       "4       2104 marked the first year that consumers swap... 2015-01-02\n",
       "...                                                   ...        ...\n",
       "276553  an analysis by jpmorgan chase & co.’s quantita... 2024-01-30\n",
       "276554  microsoft corporation (nasdaq: msft ) is expec... 2024-01-30\n",
       "276555  the u.s. economy could be on the verge of a si... 2024-01-30\n",
       "276556  the u.s. economy could be on the verge of a si... 2024-01-30\n",
       "276557  after ford motor (nyse: f ) decided to cut the... 2024-01-30\n",
       "\n",
       "[276558 rows x 2 columns]"
      ]
     },
     "execution_count": 14,
     "metadata": {},
     "output_type": "execute_result"
    }
   ],
   "source": [
    "df[\"date\"] = pd.to_datetime(df[\"date\"])\n",
    "df = df.sort_values(by=\"date\")\n",
    "df.reset_index(drop=True,inplace=True)\n",
    "# Since news go up to 2024 we can filter out the dates we don't need\n",
    "df"
   ]
  },
  {
   "cell_type": "markdown",
   "metadata": {},
   "source": [
    "# HACER TICKER PREDICTION AND SENTIMENT LABEL PREDICTION"
   ]
  }
 ],
 "metadata": {
  "kernelspec": {
   "display_name": "DCDC",
   "language": "python",
   "name": "python3"
  },
  "language_info": {
   "codemirror_mode": {
    "name": "ipython",
    "version": 3
   },
   "file_extension": ".py",
   "mimetype": "text/x-python",
   "name": "python",
   "nbconvert_exporter": "python",
   "pygments_lexer": "ipython3",
   "version": "3.12.5"
  }
 },
 "nbformat": 4,
 "nbformat_minor": 2
}
